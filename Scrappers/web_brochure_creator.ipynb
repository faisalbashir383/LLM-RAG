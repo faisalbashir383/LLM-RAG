{
 "cells": [
  {
   "cell_type": "markdown",
   "id": "cbbc4d7d-0931-49d7-bb1e-022c2f85edad",
   "metadata": {},
   "source": [
    "## Necessary Imports for Brochure creator"
   ]
  },
  {
   "cell_type": "code",
   "execution_count": 7,
   "id": "ed404f91-4197-4c04-86bf-b01f490ce50b",
   "metadata": {},
   "outputs": [],
   "source": [
    "import os\n",
    "import json\n",
    "import requests\n",
    "from dotenv import load_dotenv\n",
    "from typing import List\n",
    "from bs4 import BeautifulSoup\n",
    "from IPython.display import Markdown, display, update_display\n",
    "from openai import OpenAI"
   ]
  },
  {
   "cell_type": "markdown",
   "id": "245049cf-c4f0-439c-bd66-e2164fedfd90",
   "metadata": {},
   "source": [
    "## Connecting to OpenAI (make sure you add OPENAI_API_KEY in .env file )"
   ]
  },
  {
   "cell_type": "code",
   "execution_count": 8,
   "id": "fb6a468e-cd60-45d6-8beb-4f2304ca8b38",
   "metadata": {},
   "outputs": [],
   "source": [
    "# Load environment variables in a file called .env\n",
    "\n",
    "load_dotenv(override=True)\n",
    "api_key = os.getenv('OPENAI_API_KEY')"
   ]
  },
  {
   "cell_type": "code",
   "execution_count": 9,
   "id": "d998f418-2417-4513-be15-bee44cc12d83",
   "metadata": {},
   "outputs": [],
   "source": [
    "MODEL=\"gpt-4o-mini\"\n",
    "openai = OpenAI()"
   ]
  },
  {
   "cell_type": "markdown",
   "id": "ae0341d1-fbde-479f-93e4-fc08737eff0e",
   "metadata": {},
   "source": [
    "# creating class WebCrawller that will scrap content from websites provided "
   ]
  },
  {
   "cell_type": "code",
   "execution_count": 16,
   "id": "ef887637-d61b-4759-9aa5-8fa277060f03",
   "metadata": {},
   "outputs": [],
   "source": [
    "# Some websites need to use proper headers when fetching them:\n",
    "headers = {\n",
    " \"User-Agent\": \"Mozilla/5.0 (Windows NT 10.0; Win64; x64) AppleWebKit/537.36 (KHTML, like Gecko) Chrome/117.0.0.0 Safari/537.36\"\n",
    "}\n",
    "\n",
    "class WebCrawller:\n",
    "    \"\"\"\n",
    "    A web crawler class to fetch and parse web page data, including the title, body content, \n",
    "    links, and text.\n",
    "\n",
    "    Attributes:\n",
    "        url (str): The URL of the web page.\n",
    "        title (str): The title of the web page (if available).\n",
    "        body (str): The raw HTML content of the page.\n",
    "        links (List[str]): A list of all hyperlink URLs found on the page.\n",
    "        text (str): The plain text content of the page body, excluding scripts, styles, and images.\n",
    "\n",
    "    Methods:\n",
    "        __init__(url): Initializes the crawler by fetching the web page and extracting its content.\n",
    "    \"\"\"\n",
    "    \n",
    "    def __init__(self, url: str):\n",
    "        \"\"\"\n",
    "        Initializes the WebCrawller object, fetching the web page content and parsing its \n",
    "        title, body, plain text, and links.\n",
    "\n",
    "        Args:\n",
    "            url (str): The URL of the web page to crawl.\n",
    "\n",
    "        Raises:\n",
    "            requests.exceptions.RequestException: If the HTTP request fails.\n",
    "        \"\"\"\n",
    "        self.url = url  # Store the provided URL\n",
    "\n",
    "        # Send an HTTP GET request to the URL with headers\n",
    "        response = requests.get(url, headers={\"User-Agent\": \"Mozilla/5.0\"})\n",
    "        self.body = response.content  # Save the raw HTML content of the page\n",
    "        \n",
    "        # Parse the HTML content using BeautifulSoup\n",
    "        soup = BeautifulSoup(self.body, 'html.parser')\n",
    "        \n",
    "        # Extract the page title, or use a default message if the title is not present\n",
    "        self.title = soup.title.string if soup.title else \"No title found\"\n",
    "\n",
    "        # Process the <body> content, removing irrelevant tags like scripts, styles, etc.\n",
    "        if soup.body:\n",
    "            for irrelevant in soup.body([\"script\", \"style\", \"img\", \"input\"]):\n",
    "                irrelevant.decompose()  # Remove the tag and its content\n",
    "            # Get the plain text content from the body, separating lines by newline characters\n",
    "            self.text = soup.body.get_text(separator=\"\\n\", strip=True)\n",
    "        else:\n",
    "            self.text = \"\"  # If there's no <body>, set text to an empty string\n",
    "        \n",
    "        # Find all <a> tags and extract their href attributes\n",
    "        links = [a.get('href') for a in soup.find_all('a')]\n",
    "        # Filter out None values and keep only valid links\n",
    "        self.links = [link for link in links if link]\n",
    "\n",
    "    def get_contents(self):\n",
    "        return f\"Webpage Title:\\n {self.title} \\n Webpage Contents:\\n{self.text}\\n\\n\""
   ]
  },
  {
   "cell_type": "code",
   "execution_count": 17,
   "id": "18c2a66f-0bcc-4a14-8887-cb85deea801d",
   "metadata": {},
   "outputs": [],
   "source": [
    "website = WebCrawller(\"https://www.doctustech.com/\")"
   ]
  },
  {
   "cell_type": "code",
   "execution_count": 18,
   "id": "8024c88b-3156-49e5-a541-585a3935c033",
   "metadata": {},
   "outputs": [
    {
     "data": {
      "text/plain": [
       "\"Webpage Title:\\n HCC coding services for risk adjustment - DoctusTech \\n Webpage Contents:\\nDoctus\\nTech\\nHCC CODING TOOLS\\nHCC Coding App\\nIntegrated Platform\\nHCC INTEGRATED PLATFORM\\nAthena Health\\nWhy Partner With Us\\nAbout Us\\nDoctusTech VBC hub\\nBlogs\\nEBooks & White Papers\\nVideos\\nFact Sheets & Guides\\nCase Studies\\nCareers\\nX\\nEdit Content\\nMENU\\nHCC CODING TOOLS\\nHCC Coding App\\nIntegrated Platform\\nHCC INTEGRATED PLATFORM\\nAthena Health\\nWhy Partner With Us\\nAbout Us\\nDoctusTech VBC hub\\nBlogs\\nEBooks & White Papers\\nVideos\\nFact Sheets & Guides\\nCase Studies\\nCareers\\nSTART 14-DAY TRIAL\\nSCHEDULE A DEMO\\n×\\nStart 14-Day HCC DOC Trial\\nIf you are interested in a trial of our HCC Coding Mobile App, please share your information below and we will respond right away.\\nWe make HCC coding education easy.\\nDoctusTech’s expert HCC coding services offer the best way for clinicians to learn HCC coding.\\n9 out of 10 doctors prefer DoctusTech to any other method of HCC training – find out why.\\nGet started\\nHCC coding services that deliver results:\\n30% increase\\nin RAF accuracy.\\n90% engagement\\nwith clinicians.\\nWe've solved the gaps in\\nHCC documentation.\\nEffective risk adjustment starts with better knowledge, workflows, and data.\\nKnowledge gap\\n— — — — —\\nWorkflow gap\\n— — — — —\\nData gap\\nKnowledge gap:\\nHelping clinicians understand HCC coding, and getting their buy-in.\\nCurrent state:\\nLectures, emails, memos, and coder-led feedback.\\nDoctus\\nTech experience:\\nFive minutes of app-based, asynchronous learning.\\nWorkflow gap:\\nMaking it easier for clinicians to provide accurate documentation.\\nCurrent state:\\nManually review payor suspect lists, specialist claims data, lab reports, and other forms of unstructured information.\\nDoctus\\nTech experience:\\nAggregate all external data sources to create a single source of truth in your EMR of choice.\\n>\\nData gap:\\nAccess better data – not more data – at the point of care.\\nCurrent state:\\nCast a broad net, waste time sifting through unsupported diagnoses.\\nDoctus\\nTech experience:\\nHigh-specificity, review-supported diagnoses.\\nWant something for your coders?\\nOur non-clinical training teaches your team how to chart prep correctly, bill properly, and remain compliant at all times.\\nFind out more\\nIncrease the profitability of Medicare risk contracts.\\nIncluding ACO, ACO Reach, PrimaryCareFirst,\\nMedicare Advantage, ESRD, and PACE.\\nDoctus\\nTech App\\nBetter education\\nHigher documentation specificity\\nDecrease coder dependency\\nLearn more\\nHCC Patient Diagnosis Assist Platform\\nIntegrated into 70+ major EMRs\\nAggregates payer, specialty, and hospital data\\nAutomates chart review and ensures documentation integrity\\nLearn more\\nThe control & flexibility\\nyou need.\\nWe provide point-of-care solutions for accurate documentation.\\nBook a demo\\nFeatured partners:\\nTrusted by providers\\n9 out of 10 clinicians prefer DoctusTech to any other method of HCC training.\\n“\\nI like the way they ask the questions, because it's like I'm sitting for boards...There are a lot of other programs out there, but not like this.\\nDr. Villaplana-Canals\\nFlorida\\n“\\nThe mobile app is wonderful, in that it's a clinical vignette — it's what is literally in front of their face, and it gets them thinking.\\nTeresa Caniglia, CDI\\nOhio\\n“\\nThis is more intuitive and is full of 'ah-ha moments,' whereas all of my other education on this topic hasn't really been that iterative or intuitive. So I do like the format.\\nDr. Bateman\\nOhio\\nSeamless integration\\nwith 70+ major EMRs.\\nCommitment to best-in-class\\nsecurity controls.\\nDoctus\\nTech\\nDoctusTech is a comprehensive health platform company focused on elevating value-based care capabilities with providers, payers, healthcare systems, and accountable care organizations.\\nSCHEDULE A DEMO\\nMenu\\nHCC Coding App\\nHCC Integrated Platform\\nWhy Partner With Us\\nAbout Us\\nCareers\\nContact Us\\nPrivacy Policy\\nTerms of Use\\nCookie Policy\\nSubscribe to Our VBC Newsletter\\nEmail\\n*\\nInvalid value\\nSubmit\\nSource\\nInvalid value\\nContact With Us\\nHCC CODING TOOLS\\nHCC Coding App\\nIntegrated Platform\\nHCC INTEGRATED PLATFORM\\nAthena Health\\nWhy Partner With Us\\nAbout Us\\nDoctusTech VBC hub\\nBlogs\\nEBooks & White Papers\\nVideos\\nFact Sheets & Guides\\nCase Studies\\nCareers\\nSTART 14-DAY TRIAL\\n\\n\""
      ]
     },
     "execution_count": 18,
     "metadata": {},
     "output_type": "execute_result"
    }
   ],
   "source": [
    "website.get_contents()"
   ]
  },
  {
   "cell_type": "code",
   "execution_count": 19,
   "id": "555d35e4-e912-47aa-83fd-b17ef6412667",
   "metadata": {},
   "outputs": [
    {
     "data": {
      "text/plain": [
       "['https://www.doctustech.com',\n",
       " '#',\n",
       " 'https://www.doctustech.com/hcc-coding-app/',\n",
       " 'https://www.doctustech.com/hcc-integrated-platform/',\n",
       " 'https://www.doctustech.com/hcc-integrated-platform/',\n",
       " 'https://www.doctustech.com/hcc-integration-athenahealth/',\n",
       " 'https://www.doctustech.com/why-partner-with-us/',\n",
       " 'https://www.doctustech.com/about-us/',\n",
       " 'https://www.doctustech.com/doctustech-vbc-hub/',\n",
       " 'https://www.doctustech.com/blog/',\n",
       " 'https://www.doctustech.com/ebooks-white-papers/',\n",
       " 'https://www.doctustech.com/videos/',\n",
       " 'https://www.doctustech.com/fact-sheets-guides/',\n",
       " 'https://www.doctustech.com/case-studies/',\n",
       " 'https://www.doctustech.com/careers-at-doctustech/',\n",
       " '#',\n",
       " '#',\n",
       " '#',\n",
       " 'https://www.doctustech.com/hcc-coding-app/',\n",
       " 'https://www.doctustech.com/hcc-integrated-platform/',\n",
       " 'https://www.doctustech.com/hcc-integrated-platform/',\n",
       " 'https://www.doctustech.com/hcc-integration-athenahealth/',\n",
       " 'https://www.doctustech.com/why-partner-with-us/',\n",
       " 'https://www.doctustech.com/about-us/',\n",
       " 'https://www.doctustech.com/doctustech-vbc-hub/',\n",
       " 'https://www.doctustech.com/blog/',\n",
       " 'https://www.doctustech.com/ebooks-white-papers/',\n",
       " 'https://www.doctustech.com/videos/',\n",
       " 'https://www.doctustech.com/fact-sheets-guides/',\n",
       " 'https://www.doctustech.com/case-studies/',\n",
       " 'https://www.doctustech.com/careers-at-doctustech/',\n",
       " 'https://www.doctustech.com/contact-us/',\n",
       " 'https://www.doctustech.com/contact-us/',\n",
       " 'https://www.doctustech.com/hcc-coding-tools',\n",
       " 'https://www.doctustech.com/contact-us',\n",
       " 'https://doctustech.com/hcc-coding-tools',\n",
       " 'https://www.doctustech.com/hcc-integrated-platform',\n",
       " 'https://www.doctustech.com/contact-us',\n",
       " '#',\n",
       " '#',\n",
       " 'https://www.doctustech.com',\n",
       " 'https://www.doctustech.com/contact-us',\n",
       " 'https://www.doctustech.com/hcc-coding-app/',\n",
       " 'https://www.doctustech.com/hcc-integrated-platform/',\n",
       " 'https://www.doctustech.com/why-partner-with-us/',\n",
       " 'https://www.doctustech.com/about-us/',\n",
       " 'https://www.doctustech.com/careers-at-doctustech/',\n",
       " 'https://www.doctustech.com/contact-us/',\n",
       " 'https://www.doctustech.com/privacy-policy/',\n",
       " 'https://www.doctustech.com/term-of-use/',\n",
       " 'https://www.doctustech.com/cookie-policy/',\n",
       " 'https://www.linkedin.com/company/doctus-tech',\n",
       " 'https://twitter.com/doctustech',\n",
       " 'https://www.facebook.com/DoctusTech/',\n",
       " '#',\n",
       " 'https://www.doctustech.com/hcc-coding-app/',\n",
       " 'https://www.doctustech.com/hcc-integrated-platform/',\n",
       " 'https://www.doctustech.com/hcc-integrated-platform/',\n",
       " 'https://www.doctustech.com/hcc-integration-athenahealth/',\n",
       " 'https://www.doctustech.com/why-partner-with-us/',\n",
       " 'https://www.doctustech.com/about-us/',\n",
       " 'https://www.doctustech.com/doctustech-vbc-hub/',\n",
       " 'https://www.doctustech.com/blog/',\n",
       " 'https://www.doctustech.com/ebooks-white-papers/',\n",
       " 'https://www.doctustech.com/videos/',\n",
       " 'https://www.doctustech.com/fact-sheets-guides/',\n",
       " 'https://www.doctustech.com/case-studies/',\n",
       " 'https://www.doctustech.com/careers-at-doctustech/',\n",
       " 'https://www.doctustech.com/contact-us/']"
      ]
     },
     "execution_count": 19,
     "metadata": {},
     "output_type": "execute_result"
    }
   ],
   "source": [
    "website.links"
   ]
  },
  {
   "cell_type": "code",
   "execution_count": 20,
   "id": "5a140979-e7ac-46e9-adb6-b1a5c080e03a",
   "metadata": {},
   "outputs": [],
   "source": [
    "system_prompt_links = \"You are provided with a list of links found on webpage your are able to decide which of the links would  \\\n",
    "be most relevant to include in a brochure about the company  such as links to an About Page or Company page, or Careers/Job Pages \\n\"\n",
    "system_prompt_links += \"You should respond in JSON as in this example\"\n",
    "system_prompt_links += \"\"\"\n",
    "    {\n",
    "        \"links\": [\n",
    "            {\"type\": \"About Page\", \"url\": \"https://google.com/about/\"},\n",
    "            {\"type\": \"Careers Page\", \"url\": \"https://google.com/careers/\"}\n",
    "        ]\n",
    "    }\n",
    "\"\"\""
   ]
  },
  {
   "cell_type": "code",
   "execution_count": 23,
   "id": "81d31a7a-88a9-42ca-a900-425870bf94c2",
   "metadata": {},
   "outputs": [],
   "source": [
    "def get_links_user_prompt(website):\n",
    "    user_prompt = f\"Here is the list of links on the website on {website.url}\"\n",
    "    user_prompt += \"Please decide which of these are relevant web links for brochure about the company, response with the full https URL \\\n",
    "    do not include terms of service, privacy policy, emails links\"\n",
    "    user_prompt += \"Links (some might be relative links)\"\n",
    "    user_prompt += \"\\n\".join(website.links)\n",
    "    return user_prompt\n",
    "    "
   ]
  },
  {
   "cell_type": "code",
   "execution_count": 24,
   "id": "5ea2e343-7706-4e10-86a5-2900748ae659",
   "metadata": {},
   "outputs": [
    {
     "data": {
      "text/plain": [
       "'Here is the list of links on the website on https://www.doctustech.com/Please decide which of these are relevant web links for brochure about the company, response with the full https URL     do not include terms of service, privacy policy, emails linksLinks (some might be relative links)https://www.doctustech.com\\n#\\nhttps://www.doctustech.com/hcc-coding-app/\\nhttps://www.doctustech.com/hcc-integrated-platform/\\nhttps://www.doctustech.com/hcc-integrated-platform/\\nhttps://www.doctustech.com/hcc-integration-athenahealth/\\nhttps://www.doctustech.com/why-partner-with-us/\\nhttps://www.doctustech.com/about-us/\\nhttps://www.doctustech.com/doctustech-vbc-hub/\\nhttps://www.doctustech.com/blog/\\nhttps://www.doctustech.com/ebooks-white-papers/\\nhttps://www.doctustech.com/videos/\\nhttps://www.doctustech.com/fact-sheets-guides/\\nhttps://www.doctustech.com/case-studies/\\nhttps://www.doctustech.com/careers-at-doctustech/\\n#\\n#\\n#\\nhttps://www.doctustech.com/hcc-coding-app/\\nhttps://www.doctustech.com/hcc-integrated-platform/\\nhttps://www.doctustech.com/hcc-integrated-platform/\\nhttps://www.doctustech.com/hcc-integration-athenahealth/\\nhttps://www.doctustech.com/why-partner-with-us/\\nhttps://www.doctustech.com/about-us/\\nhttps://www.doctustech.com/doctustech-vbc-hub/\\nhttps://www.doctustech.com/blog/\\nhttps://www.doctustech.com/ebooks-white-papers/\\nhttps://www.doctustech.com/videos/\\nhttps://www.doctustech.com/fact-sheets-guides/\\nhttps://www.doctustech.com/case-studies/\\nhttps://www.doctustech.com/careers-at-doctustech/\\nhttps://www.doctustech.com/contact-us/\\nhttps://www.doctustech.com/contact-us/\\nhttps://www.doctustech.com/hcc-coding-tools\\nhttps://www.doctustech.com/contact-us\\nhttps://doctustech.com/hcc-coding-tools\\nhttps://www.doctustech.com/hcc-integrated-platform\\nhttps://www.doctustech.com/contact-us\\n#\\n#\\nhttps://www.doctustech.com\\nhttps://www.doctustech.com/contact-us\\nhttps://www.doctustech.com/hcc-coding-app/\\nhttps://www.doctustech.com/hcc-integrated-platform/\\nhttps://www.doctustech.com/why-partner-with-us/\\nhttps://www.doctustech.com/about-us/\\nhttps://www.doctustech.com/careers-at-doctustech/\\nhttps://www.doctustech.com/contact-us/\\nhttps://www.doctustech.com/privacy-policy/\\nhttps://www.doctustech.com/term-of-use/\\nhttps://www.doctustech.com/cookie-policy/\\nhttps://www.linkedin.com/company/doctus-tech\\nhttps://twitter.com/doctustech\\nhttps://www.facebook.com/DoctusTech/\\n#\\nhttps://www.doctustech.com/hcc-coding-app/\\nhttps://www.doctustech.com/hcc-integrated-platform/\\nhttps://www.doctustech.com/hcc-integrated-platform/\\nhttps://www.doctustech.com/hcc-integration-athenahealth/\\nhttps://www.doctustech.com/why-partner-with-us/\\nhttps://www.doctustech.com/about-us/\\nhttps://www.doctustech.com/doctustech-vbc-hub/\\nhttps://www.doctustech.com/blog/\\nhttps://www.doctustech.com/ebooks-white-papers/\\nhttps://www.doctustech.com/videos/\\nhttps://www.doctustech.com/fact-sheets-guides/\\nhttps://www.doctustech.com/case-studies/\\nhttps://www.doctustech.com/careers-at-doctustech/\\nhttps://www.doctustech.com/contact-us/'"
      ]
     },
     "execution_count": 24,
     "metadata": {},
     "output_type": "execute_result"
    }
   ],
   "source": [
    "get_links_user_prompt(website)"
   ]
  },
  {
   "cell_type": "code",
   "execution_count": 26,
   "id": "7e078ea5-3fe5-4fe7-8131-3746ebb4acfc",
   "metadata": {},
   "outputs": [],
   "source": [
    "def get_links(url):\n",
    "    website = WebCrawller(url)\n",
    "    completion = openai.chat.completions.create(\n",
    "        model =  MODEL,\n",
    "        messages = [\n",
    "            {\"role\": \"system\", \"content\": system_prompt_links},\n",
    "            {\"role\": \"user\", \"content\": get_links_user_prompt(website)}\n",
    "        ],\n",
    "        response_format={\"type\": \"json_object\"}\n",
    "    )\n",
    "    result = completion.choices[0].message.content\n",
    "    return json.loads(result)\n",
    "    "
   ]
  },
  {
   "cell_type": "code",
   "execution_count": 28,
   "id": "981d737e-ec5f-4ae6-b4e2-fa3cfa646ada",
   "metadata": {},
   "outputs": [
    {
     "data": {
      "text/plain": [
       "{'links': [{'type': 'About Page',\n",
       "   'url': 'https://www.doctustech.com/about-us/'},\n",
       "  {'type': 'Careers Page',\n",
       "   'url': 'https://www.doctustech.com/careers-at-doctustech/'},\n",
       "  {'type': 'Why Partner With Us',\n",
       "   'url': 'https://www.doctustech.com/why-partner-with-us/'},\n",
       "  {'type': 'Blog', 'url': 'https://www.doctustech.com/blog/'},\n",
       "  {'type': 'Case Studies', 'url': 'https://www.doctustech.com/case-studies/'},\n",
       "  {'type': 'Fact Sheets and Guides',\n",
       "   'url': 'https://www.doctustech.com/fact-sheets-guides/'},\n",
       "  {'type': 'Ebooks and White Papers',\n",
       "   'url': 'https://www.doctustech.com/ebooks-white-papers/'},\n",
       "  {'type': 'Videos', 'url': 'https://www.doctustech.com/videos/'}]}"
      ]
     },
     "execution_count": 28,
     "metadata": {},
     "output_type": "execute_result"
    }
   ],
   "source": [
    "get_links('https://www.doctustech.com')"
   ]
  },
  {
   "cell_type": "markdown",
   "id": "27da4112-ac09-4465-8c4c-f3ae2b2cae83",
   "metadata": {},
   "source": [
    "#  Now lets create Brochure"
   ]
  },
  {
   "cell_type": "code",
   "execution_count": 31,
   "id": "9df36cd2-1f19-4122-bc2f-5501b5867381",
   "metadata": {},
   "outputs": [],
   "source": [
    "def get_all_details(url):\n",
    "    result = \"Landing page:\\n\"\n",
    "    result += WebCrawller(url).get_contents()\n",
    "    links = get_links(url)\n",
    "    print(\"Found links:\", links)\n",
    "    for link in links[\"links\"]:\n",
    "        result += f\"\\n\\n{link['type']}\\n\"\n",
    "        result += WebCrawller(link[\"url\"]).get_contents()\n",
    "    return result"
   ]
  },
  {
   "cell_type": "code",
   "execution_count": 34,
   "id": "f09d1c02-d221-4c08-aedf-ff3818395b08",
   "metadata": {},
   "outputs": [],
   "source": [
    "system_prompt = \"You are an assistant that analyzes the contents of several relevant pages from a company website \\\n",
    "and creates a short brochure about the company for prospective customers, investors and recruits. Respond in markdown.\\\n",
    "Include details of company culture, customers and careers/jobs if you have the information.\"\n",
    "\n",
    "# Or uncomment the lines below for a more humorous brochure - this demonstrates how easy it is to incorporate 'tone':\n",
    "\n",
    "# system_prompt = \"You are an assistant that analyzes the contents of several relevant pages from a company website \\\n",
    "# and creates a short humorous, entertaining, jokey brochure about the company for prospective customers, investors and recruits. Respond in markdown.\\\n",
    "# Include details of company culture, customers and careers/jobs if you have the information.\""
   ]
  },
  {
   "cell_type": "code",
   "execution_count": 35,
   "id": "5f468301-1415-4463-84c5-5de130da2878",
   "metadata": {},
   "outputs": [],
   "source": [
    "def get_brochure_user_prompt(company_name, url):\n",
    "    user_prompt = f\"You are looking at a company called: {company_name}\\n\"\n",
    "    user_prompt += f\"Here are the contents of its landing page and other relevant pages; use this information to build a short brochure of the company in markdown.\\n\"\n",
    "    user_prompt += get_all_details(url)\n",
    "    user_prompt = user_prompt[:5_000] # Truncate if more than 5,000 characters\n",
    "    return user_prompt"
   ]
  },
  {
   "cell_type": "code",
   "execution_count": 36,
   "id": "13d9ffc0-a6e9-4248-8934-0b8ceb0f60fb",
   "metadata": {},
   "outputs": [
    {
     "name": "stdout",
     "output_type": "stream",
     "text": [
      "Found links: {'links': [{'type': 'About Page', 'url': 'https://www.doctustech.com/about-us/'}, {'type': 'Careers Page', 'url': 'https://www.doctustech.com/careers-at-doctustech/'}, {'type': 'Why Partner with Us', 'url': 'https://www.doctustech.com/why-partner-with-us/'}, {'type': 'Blog', 'url': 'https://www.doctustech.com/blog/'}, {'type': 'Ebooks and White Papers', 'url': 'https://www.doctustech.com/ebooks-white-papers/'}, {'type': 'Videos', 'url': 'https://www.doctustech.com/videos/'}, {'type': 'Fact Sheets and Guides', 'url': 'https://www.doctustech.com/fact-sheets-guides/'}, {'type': 'Case Studies', 'url': 'https://www.doctustech.com/case-studies/'}]}\n"
     ]
    },
    {
     "data": {
      "text/plain": [
       "\"You are looking at a company called: Doctustech\\nHere are the contents of its landing page and other relevant pages; use this information to build a short brochure of the company in markdown.\\nLanding page:\\nWebpage Title:\\n HCC coding services for risk adjustment - DoctusTech \\n Webpage Contents:\\nDoctus\\nTech\\nHCC CODING TOOLS\\nHCC Coding App\\nIntegrated Platform\\nHCC INTEGRATED PLATFORM\\nAthena Health\\nWhy Partner With Us\\nAbout Us\\nDoctusTech VBC hub\\nBlogs\\nEBooks & White Papers\\nVideos\\nFact Sheets & Guides\\nCase Studies\\nCareers\\nX\\nEdit Content\\nMENU\\nHCC CODING TOOLS\\nHCC Coding App\\nIntegrated Platform\\nHCC INTEGRATED PLATFORM\\nAthena Health\\nWhy Partner With Us\\nAbout Us\\nDoctusTech VBC hub\\nBlogs\\nEBooks & White Papers\\nVideos\\nFact Sheets & Guides\\nCase Studies\\nCareers\\nSTART 14-DAY TRIAL\\nSCHEDULE A DEMO\\n×\\nStart 14-Day HCC DOC Trial\\nIf you are interested in a trial of our HCC Coding Mobile App, please share your information below and we will respond right away.\\nWe make HCC coding education easy.\\nDoctusTech’s expert HCC coding services offer the best way for clinicians to learn HCC coding.\\n9 out of 10 doctors prefer DoctusTech to any other method of HCC training – find out why.\\nGet started\\nHCC coding services that deliver results:\\n30% increase\\nin RAF accuracy.\\n90% engagement\\nwith clinicians.\\nWe've solved the gaps in\\nHCC documentation.\\nEffective risk adjustment starts with better knowledge, workflows, and data.\\nKnowledge gap\\n— — — — —\\nWorkflow gap\\n— — — — —\\nData gap\\nKnowledge gap:\\nHelping clinicians understand HCC coding, and getting their buy-in.\\nCurrent state:\\nLectures, emails, memos, and coder-led feedback.\\nDoctus\\nTech experience:\\nFive minutes of app-based, asynchronous learning.\\nWorkflow gap:\\nMaking it easier for clinicians to provide accurate documentation.\\nCurrent state:\\nManually review payor suspect lists, specialist claims data, lab reports, and other forms of unstructured information.\\nDoctus\\nTech experience:\\nAggregate all external data sources to create a single source of truth in your EMR of choice.\\n>\\nData gap:\\nAccess better data – not more data – at the point of care.\\nCurrent state:\\nCast a broad net, waste time sifting through unsupported diagnoses.\\nDoctus\\nTech experience:\\nHigh-specificity, review-supported diagnoses.\\nWant something for your coders?\\nOur non-clinical training teaches your team how to chart prep correctly, bill properly, and remain compliant at all times.\\nFind out more\\nIncrease the profitability of Medicare risk contracts.\\nIncluding ACO, ACO Reach, PrimaryCareFirst,\\nMedicare Advantage, ESRD, and PACE.\\nDoctus\\nTech App\\nBetter education\\nHigher documentation specificity\\nDecrease coder dependency\\nLearn more\\nHCC Patient Diagnosis Assist Platform\\nIntegrated into 70+ major EMRs\\nAggregates payer, specialty, and hospital data\\nAutomates chart review and ensures documentation integrity\\nLearn more\\nThe control & flexibility\\nyou need.\\nWe provide point-of-care solutions for accurate documentation.\\nBook a demo\\nFeatured partners:\\nTrusted by providers\\n9 out of 10 clinicians prefer DoctusTech to any other method of HCC training.\\n“\\nI like the way they ask the questions, because it's like I'm sitting for boards...There are a lot of other programs out there, but not like this.\\nDr. Villaplana-Canals\\nFlorida\\n“\\nThe mobile app is wonderful, in that it's a clinical vignette — it's what is literally in front of their face, and it gets them thinking.\\nTeresa Caniglia, CDI\\nOhio\\n“\\nThis is more intuitive and is full of 'ah-ha moments,' whereas all of my other education on this topic hasn't really been that iterative or intuitive. So I do like the format.\\nDr. Bateman\\nOhio\\nSeamless integration\\nwith 70+ major EMRs.\\nCommitment to best-in-class\\nsecurity controls.\\nDoctus\\nTech\\nDoctusTech is a comprehensive health platform company focused on elevating value-based care capabilities with providers, payers, healthcare systems, and accountable care organizations.\\nSCHEDULE A DEMO\\nMenu\\nHCC Coding App\\nHCC Integrated Platform\\nWhy Partner With Us\\nAbout Us\\nCareers\\nContact Us\\nPrivacy Policy\\nTerms of Use\\nCookie Policy\\nSubscribe to Our VBC Newsletter\\nEmail\\n*\\nInvalid value\\nSubmit\\nSource\\nInvalid value\\nContact With Us\\nHCC CODING TOOLS\\nHCC Coding App\\nIntegrated Platform\\nHCC INTEGRATED PLATFORM\\nAthena Health\\nWhy Partner With Us\\nAbout Us\\nDoctusTech VBC hub\\nBlogs\\nEBooks & White Papers\\nVideos\\nFact Sheets & Guides\\nCase Studies\\nCareers\\nSTART 14-DAY TRIAL\\n\\n\\n\\nAbout Page\\nWebpage Title:\\n About us | empowering value-based care organizations \\n Webpage Contents:\\nDoctus\\nTech\\nHCC CODING TOOLS\\nHCC Coding App\\nIntegrated Platform\\nHCC INTEGRATED PLATFORM\\nAthena Health\\nWhy Partner With Us\\nAbout Us\\nDoctusTech VBC hub\\nBlogs\\nEBooks & White Papers\\nVideos\\nFact Sheets & Guides\\nCase Studies\\nCareers\\nX\\nEdit Content\\nMENU\\nHCC CODING TOOLS\\nHCC Coding App\\nIntegrated Platform\\nHCC INTEGRATED PLATFORM\\nAthena Health\\nWhy Partner With Us\\nAbout Us\\nDoctusTech VBC hub\\nBlogs\\nEBooks & White Papers\\nVideos\\nFact Sheets & Guides\\nCase Studies\\nCareers\\nSTART 14-DAY TRIAL\\nSCHEDULE A DEMO\\n×\\nStart 14-Day HCC DOC Trial\\n\""
      ]
     },
     "execution_count": 36,
     "metadata": {},
     "output_type": "execute_result"
    }
   ],
   "source": [
    "get_brochure_user_prompt(\"Doctustech\", \"https://doctustech.com\")"
   ]
  },
  {
   "cell_type": "code",
   "execution_count": 37,
   "id": "f77a5ff5-4768-4a91-a32b-b97c1dadb984",
   "metadata": {},
   "outputs": [],
   "source": [
    "def create_brochure(company_name, url):\n",
    "    response = openai.chat.completions.create(\n",
    "        model=MODEL,\n",
    "        messages=[\n",
    "            {\"role\": \"system\", \"content\": system_prompt},\n",
    "            {\"role\": \"user\", \"content\": get_brochure_user_prompt(company_name, url)}\n",
    "          ],\n",
    "    )\n",
    "    result = response.choices[0].message.content\n",
    "    display(Markdown(result))"
   ]
  },
  {
   "cell_type": "code",
   "execution_count": 38,
   "id": "a8c2f959-5e96-43d6-8017-9357434e4f61",
   "metadata": {},
   "outputs": [
    {
     "name": "stdout",
     "output_type": "stream",
     "text": [
      "Found links: {'links': [{'type': 'About Page', 'url': 'https://www.doctustech.com/about-us/'}, {'type': 'Careers Page', 'url': 'https://www.doctustech.com/careers-at-doctustech/'}, {'type': 'Partnership Information', 'url': 'https://www.doctustech.com/why-partner-with-us/'}, {'type': 'Blog', 'url': 'https://www.doctustech.com/blog/'}, {'type': 'Ebooks and White Papers', 'url': 'https://www.doctustech.com/ebooks-white-papers/'}, {'type': 'Videos', 'url': 'https://www.doctustech.com/videos/'}, {'type': 'Fact Sheets and Guides', 'url': 'https://www.doctustech.com/fact-sheets-guides/'}, {'type': 'Case Studies', 'url': 'https://www.doctustech.com/case-studies/'}]}\n"
     ]
    },
    {
     "data": {
      "text/markdown": [
       "# DoctusTech Brochure\n",
       "\n",
       "## Who We Are\n",
       "DoctusTech is a pioneering health platform company dedicated to enhancing value-based care capabilities for providers, payers, healthcare systems, and accountable care organizations (ACOs). Our focus on HCC (Hierarchical Condition Category) coding services empowers clinicians and healthcare organizations to optimize their risk adjustment strategies through better education, effective workflows, and reliable data.\n",
       "\n",
       "## Our Services\n",
       "We provide a comprehensive suite of HCC coding tools designed to simplify and enhance coding practices:\n",
       "- **HCC Coding App**: An intuitive mobile app that offers five-minute, app-based asynchronous learning to bridge knowledge gaps.\n",
       "- **Integrated Platform**: Seamless integration with over 70 major EMRs, allowing you to aggregate payer, specialty, and hospital data.\n",
       "- **Patient Diagnosis Assist Platform**: Automates chart review and ensures documentation integrity to increase efficiency and accuracy.\n",
       "\n",
       "## Why Partner With Us?\n",
       "At DoctusTech, we position ourselves as leaders in HCC coding education. With a remarkable 90% clinician engagement, our training methods are preferred over traditional approaches. We ensure higher documentation specificity and reduce dependency on coders, advancing profitability for Medicare risk contracts and enhancing overall healthcare delivery.\n",
       "\n",
       "### Key Benefits\n",
       "- 30% increase in RAF (Risk Adjustment Factor) accuracy.\n",
       "- Proven strategies to close knowledge, workflow, and data gaps.\n",
       "\n",
       "## Customer Testimonials\n",
       "> \"I like the way they ask the questions, because it's like I'm sitting for boards.\"  \n",
       "> — **Dr. Villaplana-Canals, Florida**\n",
       "\n",
       "> \"This is more intuitive and is full of 'ah-ha moments'.\"  \n",
       "> — **Dr. Bateman, Ohio**\n",
       "\n",
       "> \"The mobile app is wonderful...it gets them thinking.\"  \n",
       "> — **Teresa Caniglia, CDI, Ohio**\n",
       "\n",
       "## Company Culture\n",
       "At DoctusTech, we foster an environment of innovation, inclusivity, and continuous learning. Our team is dedicated to empowering each other and our clients through collaboration and knowledge-sharing. We value a healthy work-life balance and strive to create an atmosphere where everyone's contributions are recognized and celebrated.\n",
       "\n",
       "## Careers at DoctusTech\n",
       "We are looking for passionate individuals committed to transforming healthcare through technology. Our career opportunities span a variety of disciplines including coding, software development, project management, and education. Join us in our mission to deliver best-in-class coding solutions and enhance patient care.\n",
       "\n",
       "### Current Openings\n",
       "- Software Developer\n",
       "- HCC Trainer\n",
       "- Project Manager\n",
       "\n",
       "If you are driven to make a difference in the healthcare landscape, we invite you to explore career opportunities at DoctusTech.\n",
       "\n",
       "## Get Started Today!\n",
       "Discover how DoctusTech can enhance your healthcare journey.  \n",
       "- **Start a 14-Day Trial**: Experience the benefits of our HCC Coding App firsthand.  \n",
       "- **Schedule a Demo**: Let us show you how our solutions can meet your specific needs.\n",
       "\n",
       "For more information, visit our website or contact us.\n",
       "\n",
       "--- \n",
       "**Explore the Future of Value-Based Care with DoctusTech.**  \n",
       "**[www.doctustech.com](http://www.doctustech.com)**  "
      ],
      "text/plain": [
       "<IPython.core.display.Markdown object>"
      ]
     },
     "metadata": {},
     "output_type": "display_data"
    }
   ],
   "source": [
    "create_brochure(\"Doctustech\", \"https://doctustech.com\")"
   ]
  },
  {
   "cell_type": "code",
   "execution_count": 39,
   "id": "ac690952-911b-4978-985e-93b75c7770ce",
   "metadata": {},
   "outputs": [],
   "source": [
    "def stream_brochure(company_name, url):\n",
    "    stream = openai.chat.completions.create(\n",
    "        model=MODEL,\n",
    "        messages=[\n",
    "            {\"role\": \"system\", \"content\": system_prompt},\n",
    "            {\"role\": \"user\", \"content\": get_brochure_user_prompt(company_name, url)}\n",
    "          ],\n",
    "        stream=True\n",
    "    )\n",
    "    \n",
    "    response = \"\"\n",
    "    display_handle = display(Markdown(\"\"), display_id=True)\n",
    "    for chunk in stream:\n",
    "        response += chunk.choices[0].delta.content or ''\n",
    "        response = response.replace(\"```\",\"\").replace(\"markdown\", \"\")\n",
    "        update_display(Markdown(response), display_id=display_handle.display_id)"
   ]
  },
  {
   "cell_type": "code",
   "execution_count": 41,
   "id": "0b197762-6ce3-47d8-95e2-8ca7dcf6fcdf",
   "metadata": {},
   "outputs": [
    {
     "name": "stdout",
     "output_type": "stream",
     "text": [
      "Found links: {'links': [{'type': 'About Page', 'url': 'https://www.invisible.co/about'}, {'type': 'Careers Page', 'url': 'https://www.invisible.co/join-us'}, {'type': 'Technology Careers', 'url': 'https://www.invisible.co/technology-careers'}, {'type': 'Operations Careers', 'url': 'https://www.invisible.co/operations-careers'}, {'type': 'Case Studies', 'url': 'https://www.invisible.co/case-studies'}, {'type': 'Industries - AI', 'url': 'https://www.invisible.co/industries/ai'}, {'type': 'Industries - Financial Services', 'url': 'https://www.invisible.co/industries/financial-services'}, {'type': 'Industries - Healthcare', 'url': 'https://www.invisible.co/industries/healthcare'}, {'type': 'Industries - Insurance', 'url': 'https://www.invisible.co/industries/insurance'}, {'type': 'Industries - Retail', 'url': 'https://www.invisible.co/industries/retail'}, {'type': 'Industries - Technology', 'url': 'https://www.invisible.co/industries/technology'}, {'type': 'Solutions - Intelligent Operations', 'url': 'https://www.invisible.co/solutions/intelligent-operations'}, {'type': 'Solutions - AI Enablement', 'url': 'https://www.invisible.co/solutions/ai-enablement'}, {'type': 'Our Platform', 'url': 'https://www.invisible.co/our-platform'}, {'type': 'Blog', 'url': 'https://www.invisible.co/blog'}]}\n"
     ]
    },
    {
     "data": {
      "text/markdown": [
       "# Invisible Technologies Brochure\n",
       "\n",
       "## About Us\n",
       "Invisible Technologies is a premier provider of intelligent operations, seamlessly integrating cutting-edge AI with elite human expertise to streamline complex processes for organizations across various industries. Ranked 61st on the 2024 Deloitte Technology Fast 500 and recognized as the #3 Fastest Growing AI Company by Inc. 5000 in 2024, we are trusted by 80% of the world’s leading AI models to solve enterprise problems effectively.\n",
       "\n",
       "## Our Solutions\n",
       "### Intelligent Operations\n",
       "We offer end-to-end process automation solutions that combine AI, automation, and human expertise, enabling organizations to concentrate on their core products and services. Our agents—30% of whom hold Masters or PhDs—are skilled in over 30 coding languages and frameworks, ensuring that we can tackle any enterprise challenge.\n",
       "\n",
       "### AI Training & Enablement\n",
       "With our deep AI experience, companies can launch their tools sooner and focus on developing features that matter most to their customers. Whether refining small models or training large ones, we provide the expertise necessary for success.\n",
       "\n",
       "## Industries We Serve\n",
       "We cater to a multitude of industries, including:\n",
       "\n",
       "- **Artificial Intelligence**\n",
       "- **Financial Services**\n",
       "- **Healthcare**\n",
       "- **Insurance**\n",
       "- **Retail**\n",
       "- **Technology**\n",
       "\n",
       "Our tailored solutions have saved clients millions of hours and significantly reduced operational costs.\n",
       "\n",
       "## Customer Success Stories\n",
       "- **Retail**: Streamlined recruitment for a retailer with 700 locations, leading to faster candidate selection.\n",
       "- **Healthcare**: Optimized claims processing for Headway, achieving processing speeds that are eight times faster.\n",
       "- **Finance**: Supported Nasdaq by saving 10,000 developer hours through efficient integration solutions.\n",
       "\n",
       "## Company Culture\n",
       "At Invisible, we believe in innovation, collaboration, and the power of diverse perspectives. Our team consists of professionals from over 40 cultures and languages, creating a rich tapestry of ideas that drive our solutions forward. We place a strong emphasis on continuous learning, work-life balance, and fostering an inclusive environment where every voice matters.\n",
       "\n",
       "## Careers at Invisible\n",
       "Join our team of experts dedicated to transforming enterprise operations! We are always looking for talented individuals in both technology and operations roles. Careers at Invisible provide the opportunity to work on groundbreaking projects and collaborate with a diverse team of professionals. \n",
       "\n",
       "- **Technology Careers**: Innovate with leading-edge AI technologies.\n",
       "- **Operations Careers**: Help clients optimize their processes and drive business success.\n",
       "\n",
       "If you're ready to be part of a dynamic team that is reshaping the future of business operations, [apply now](#) to see where you fit in at Invisible Technologies.\n",
       "\n",
       "## Connect with Us\n",
       "Ready to revolutionize your operations? [Request a demo](#) or speak to our team today! Unlock your strategic vision with Invisible Technologies—where people, technology, and AI expertise converge.\n",
       "\n",
       "---\n",
       "\n",
       "### Contact Information\n",
       "[Website](https://invisible.com)  \n",
       "[Email us](mailto:info@invisible.com)\n",
       "\n",
       "Let’s innovate how you operate!"
      ],
      "text/plain": [
       "<IPython.core.display.Markdown object>"
      ]
     },
     "metadata": {},
     "output_type": "display_data"
    }
   ],
   "source": [
    "stream_brochure(\"invisible\", \"https://www.invisible.co/\")"
   ]
  },
  {
   "cell_type": "code",
   "execution_count": null,
   "id": "b409702e-5095-4c7e-8096-c3745d310600",
   "metadata": {},
   "outputs": [],
   "source": []
  }
 ],
 "metadata": {
  "kernelspec": {
   "display_name": "Python 3 (ipykernel)",
   "language": "python",
   "name": "python3"
  },
  "language_info": {
   "codemirror_mode": {
    "name": "ipython",
    "version": 3
   },
   "file_extension": ".py",
   "mimetype": "text/x-python",
   "name": "python",
   "nbconvert_exporter": "python",
   "pygments_lexer": "ipython3",
   "version": "3.11.11"
  }
 },
 "nbformat": 4,
 "nbformat_minor": 5
}
